{
 "cells": [
  {
   "cell_type": "code",
   "execution_count": null,
   "metadata": {
    "collapsed": false,
    "deletable": true,
    "editable": true
   },
   "outputs": [
    {
     "name": "stderr",
     "output_type": "stream",
     "text": [
      "/Users/elkhan.dadashov/anaconda/envs/tensorflow/lib/python2.7/site-packages/ipykernel/__main__.py:16: ParserWarning: Falling back to the 'python' engine because the 'c' engine does not support regex separators (separators > 1 char and different from '\\s+' are interpreted as regex); you can avoid this warning by specifying engine='python'.\n"
     ]
    }
   ],
   "source": [
    "import pandas as pd\n",
    "import numpy as np\n",
    "EOS_CHAR = 'zzzz'\n",
    "def munge_gl(gl):\n",
    "    \n",
    "    # append EOS_CHAR initialized to small positve random normal\n",
    "    gl = gl.append([EOS_CHAR] + list(np.random.normal(scale=.1, size=gl.shape[1]-1) + .25))\n",
    "    \n",
    "    gl_vocab = gl.pop(0)\n",
    "    gl_vocab_index = pd.DataFrame({'vocab_idx': gl_vocab.index})\n",
    "    gl_vocab_index.index = gl_vocab.values\n",
    "    print gl_vocab.shape, gl.shape\n",
    "    \n",
    "    return gl_vocab, gl\n",
    "\n",
    "glove100 = pd.read_csv('/Users/elkhan.dadashov/tools/git-repos/QuoraDuplicates/data/fbdata/wiki.en.vec', sep='\\s', header=None)\n",
    "glvocab_300, glove300 = munge_gl(glove100)\n",
    "glvocab_300.to_csv('/Users/elkhan.dadashov/tools/git-repos/QuoraDuplicates/data/fbdata/fbvocab_300.txt', sep=' ', header=None, index=False)\n",
    "glove300.to_csv('/Users/elkhan.dadashov/tools/git-repos/QuoraDuplicates/data/fbdata/fbwordvectors_300.txt', sep=' ', header=None, index=False)"
   ]
  },
  {
   "cell_type": "code",
   "execution_count": null,
   "metadata": {
    "collapsed": true
   },
   "outputs": [],
   "source": [
    "import time\n",
    "import smtplib\n",
    "from email.MIMEMultipart import MIMEMultipart\n",
    "from email.MIMEText import MIMEText\n",
    "from email.MIMEBase import MIMEBase\n",
    "from email import encoders\n",
    "\n",
    "fromaddr = \"cs224ndlnlp@gmail.com\"\n",
    "toaddr = \"elkhan.dadashov@gmail.com\"\n",
    "\n",
    "msg = MIMEMultipart()\n",
    "\n",
    "msg['From'] = fromaddr\n",
    "msg['To'] = toaddr\n",
    "msg['Subject'] = \"CS224N Final Project Experiment\"\n",
    "\n",
    "body = \"Results\"\n",
    "\n",
    "msg.attach(MIMEText(body, 'plain'))\n",
    "\n",
    "filename = \"exp_march9_relu_pred.txt\"\n",
    "attachment = open(\"/home/elkhand/QuoraDuplicates/\", \"rb\")\n",
    "while(True):\n",
    "    part = MIMEBase('application', 'octet-stream')\n",
    "    part.set_payload((attachment).read())\n",
    "    encoders.encode_base64(part)\n",
    "    part.add_header('Content-Disposition', \"attachment; filename= %s\" % filename)\n",
    "\n",
    "    msg.attach(part)\n",
    "\n",
    "    server = smtplib.SMTP('smtp.gmail.com', 587)\n",
    "    server.starttls()\n",
    "    server.login(fromaddr, \"azure123$\")\n",
    "    text = msg.as_string()\n",
    "    server.sendmail(fromaddr, toaddr, text)\n",
    "    time.sleep(600)# Sleep 10 minutes\n",
    "server.quit()"
   ]
  },
  {
   "cell_type": "code",
   "execution_count": null,
   "metadata": {
    "collapsed": true
   },
   "outputs": [],
   "source": [
    "#!/usr/bin/env python\n",
    "from email.mime.text import MIMEText\n",
    "from email.mime.application import MIMEApplication\n",
    "from email.mime.multipart import MIMEMultipart\n",
    "from smtplib import SMTP\n",
    "import smtplib\n",
    "import sys\n",
    "import time\n",
    "\n",
    "#['elkhan.dadashov@gmail.com'] \n",
    "toEmail= sys.argv[1]\n",
    "recipients = [toEmail]\n",
    "emaillist = recipients\n",
    "\n",
    "while(True):\n",
    "    msg = MIMEMultipart()\n",
    "    msg['Subject'] = sys.argv[3]\n",
    "    fromEmail = 'cs224ndlnlp@gmail.com'\n",
    "    msg['From'] = fromEmail\n",
    "    msg['Reply-to'] = 'cs224ndlnlp@gmail.com'\n",
    "\n",
    "\n",
    "    msg.preamble = 'Multipart massage.\\n'\n",
    "    part = MIMEText(\"Hi, please find the attached file\")\n",
    "    msg.attach(part)\n",
    "\n",
    "\n",
    "    part = MIMEApplication(open(str(sys.argv[2]),\"rb\").read())\n",
    "    part.add_header('Content-Disposition', 'attachment', filename=str(sys.argv[2]))\n",
    "    msg.attach(part)\n",
    "\n",
    "\n",
    "    server = smtplib.SMTP(\"smtp.gmail.com:587\")\n",
    "    server.ehlo()\n",
    "    server.starttls()\n",
    "    server.login(fromEmail, \"azure123$\")\n",
    "\n",
    "    server.sendmail(msg['From'], emaillist , msg.as_string())\n",
    "    time.sleep(600)# Sleep 10 minutes"
   ]
  }
 ],
 "metadata": {
  "kernelspec": {
   "display_name": "Python 2",
   "language": "python",
   "name": "python2"
  },
  "language_info": {
   "codemirror_mode": {
    "name": "ipython",
    "version": 2
   },
   "file_extension": ".py",
   "mimetype": "text/x-python",
   "name": "python",
   "nbconvert_exporter": "python",
   "pygments_lexer": "ipython2",
   "version": "2.7.13"
  }
 },
 "nbformat": 4,
 "nbformat_minor": 2
}
