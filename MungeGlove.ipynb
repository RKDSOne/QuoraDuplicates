{
 "cells": [
  {
   "cell_type": "code",
   "execution_count": 3,
   "metadata": {
    "collapsed": true,
    "deletable": true,
    "editable": true
   },
   "outputs": [],
   "source": [
    "import pandas as pd\n",
    "import numpy as np"
   ]
  },
  {
   "cell_type": "code",
   "execution_count": 4,
   "metadata": {
    "collapsed": false,
    "deletable": true,
    "editable": true
   },
   "outputs": [],
   "source": [
    "EOS_CHAR = 'zzzz'\n",
    "def munge_gl(gl):\n",
    "    \n",
    "    # append EOS_CHAR initialized to small positve random normal\n",
    "#     gl = gl.append([EOS_CHAR] + list(np.random.normal(scale=.1, size=gl.shape[1]-1) + .25))\n",
    "\n",
    "    gl_vocab = gl.pop(0)\n",
    "    gl_vocab_index = pd.DataFrame({'vocab_idx': gl_vocab.index})\n",
    "    gl_vocab_index.index = gl_vocab.values\n",
    "    print gl_vocab.shape, gl.shape\n",
    "    \n",
    "    return gl_vocab, gl"
   ]
  },
  {
   "cell_type": "code",
   "execution_count": null,
   "metadata": {
    "collapsed": false,
    "deletable": true,
    "editable": true
   },
   "outputs": [
    {
     "name": "stderr",
     "output_type": "stream",
     "text": [
      "/Users/kyu/anaconda2/lib/python2.7/site-packages/ipykernel/__main__.py:1: ParserWarning: Falling back to the 'python' engine because the 'c' engine does not support regex separators (separators > 1 char and different from '\\s+' are interpreted as regex); you can avoid this warning by specifying engine='python'.\n",
      "  if __name__ == '__main__':\n"
     ]
    }
   ],
   "source": [
    "cc300 = pd.read_csv('/Users/kyu/Downloads/glove.42B.1M.300d.txt', sep='\\s', header=None)\n",
    "cc300.head(2)"
   ]
  },
  {
   "cell_type": "code",
   "execution_count": null,
   "metadata": {
    "collapsed": true,
    "deletable": true,
    "editable": true
   },
   "outputs": [],
   "source": [
    "cc300 = pd.read_csv('/Users/kyu/Downloads/glove.42B.300d.txt', sep='\\s', header=None)\n",
    "glvocab_100, glove100 = munge_gl(glove100)\n",
    "glvocab_100.to_csv('/Users/kyu/quora/quora-duplicates/rnn/data/glvocab_1_100.txt', sep=' ', header=None, index=False)\n",
    "glove100.to_csv('/Users/kyu/quora/quora-duplicates/rnn/data/glwordvectors_1_100.txt', sep=' ', header=None, index=False)"
   ]
  },
  {
   "cell_type": "code",
   "execution_count": 9,
   "metadata": {
    "collapsed": false,
    "deletable": true,
    "editable": true
   },
   "outputs": [
    {
     "name": "stderr",
     "output_type": "stream",
     "text": [
      "/Users/kyu/anaconda2/lib/python2.7/site-packages/ipykernel/__main__.py:1: ParserWarning: Falling back to the 'python' engine because the 'c' engine does not support regex separators (separators > 1 char and different from '\\s+' are interpreted as regex); you can avoid this warning by specifying engine='python'.\n",
      "  if __name__ == '__main__':\n"
     ]
    },
    {
     "name": "stdout",
     "output_type": "stream",
     "text": [
      "(400101,) (400101, 100)\n"
     ]
    }
   ],
   "source": [
    "glove100 = pd.read_csv('glove/glove.6B.100d.txt', sep='\\s', header=None)\n",
    "glvocab_100, glove100 = munge_gl(glove100)\n",
    "glvocab_100.to_csv('/Users/kyu/quora/quora-duplicates/rnn/data/glvocab_1_100.txt', sep=' ', header=None, index=False)\n",
    "glove100.to_csv('/Users/kyu/quora/quora-duplicates/rnn/data/glwordvectors_1_100.txt', sep=' ', header=None, index=False)"
   ]
  },
  {
   "cell_type": "code",
   "execution_count": 10,
   "metadata": {
    "collapsed": false,
    "deletable": true,
    "editable": true
   },
   "outputs": [
    {
     "name": "stderr",
     "output_type": "stream",
     "text": [
      "/Users/kyu/anaconda2/lib/python2.7/site-packages/ipykernel/__main__.py:1: ParserWarning: Falling back to the 'python' engine because the 'c' engine does not support regex separators (separators > 1 char and different from '\\s+' are interpreted as regex); you can avoid this warning by specifying engine='python'.\n",
      "  if __name__ == '__main__':\n"
     ]
    },
    {
     "name": "stdout",
     "output_type": "stream",
     "text": [
      "(400051,) (400051, 50)\n"
     ]
    }
   ],
   "source": [
    "glove = pd.read_csv('glove/glove.6B.50d.txt', sep='\\s', header=None)\n",
    "glvocab, glove = munge_gl(glove)\n",
    "glvocab.to_csv('/Users/kyu/quora/quora-duplicates/rnn/data/glvocab_1_50.txt', sep=' ', header=None, index=False)\n",
    "glove.to_csv('/Users/kyu/quora/quora-duplicates/rnn/data/glwordvectors_1_50.txt', sep=' ', header=None, index=False)"
   ]
  },
  {
   "cell_type": "code",
   "execution_count": 11,
   "metadata": {
    "collapsed": false,
    "deletable": true,
    "editable": true
   },
   "outputs": [
    {
     "name": "stderr",
     "output_type": "stream",
     "text": [
      "/Users/kyu/anaconda2/lib/python2.7/site-packages/ipykernel/__main__.py:1: ParserWarning: Falling back to the 'python' engine because the 'c' engine does not support regex separators (separators > 1 char and different from '\\s+' are interpreted as regex); you can avoid this warning by specifying engine='python'.\n",
      "  if __name__ == '__main__':\n"
     ]
    },
    {
     "name": "stdout",
     "output_type": "stream",
     "text": [
      "(400201,) (400201, 200)\n"
     ]
    }
   ],
   "source": [
    "glove = pd.read_csv('glove/glove.6B.200d.txt', sep='\\s', header=None)\n",
    "glvocab, glove = munge_gl(glove)\n",
    "glvocab.to_csv('/Users/kyu/quora/quora-duplicates/rnn/data/glvocab_1_200.txt', sep=' ', header=None, index=False)\n",
    "glove.to_csv('/Users/kyu/quora/quora-duplicates/rnn/data/glwordvectors_1_200.txt', sep=' ', header=None, index=False)"
   ]
  },
  {
   "cell_type": "code",
   "execution_count": 12,
   "metadata": {
    "collapsed": false,
    "deletable": true,
    "editable": true
   },
   "outputs": [
    {
     "name": "stderr",
     "output_type": "stream",
     "text": [
      "/Users/kyu/anaconda2/lib/python2.7/site-packages/ipykernel/__main__.py:1: ParserWarning: Falling back to the 'python' engine because the 'c' engine does not support regex separators (separators > 1 char and different from '\\s+' are interpreted as regex); you can avoid this warning by specifying engine='python'.\n",
      "  if __name__ == '__main__':\n"
     ]
    },
    {
     "name": "stdout",
     "output_type": "stream",
     "text": [
      "(400301,) (400301, 300)\n"
     ]
    }
   ],
   "source": [
    "glove = pd.read_csv('glove/glove.6B.300d.txt', sep='\\s', header=None)\n",
    "glvocab, glove= munge_gl(glove)\n",
    "glvocab.to_csv('/Users/kyu/quora/quora-duplicates/rnn/data/glvocab_300.txt', sep=' ', header=None, index=False)\n",
    "glove.to_csv('/Users/kyu/quora/quora-duplicates/rnn/data/glwordvectors_1_300.txt', sep=' ', header=None, index=False)"
   ]
  },
  {
   "cell_type": "code",
   "execution_count": null,
   "metadata": {
    "collapsed": true,
    "deletable": true,
    "editable": true
   },
   "outputs": [],
   "source": []
  }
 ],
 "metadata": {
  "anaconda-cloud": {},
  "kernelspec": {
   "display_name": "Python 2",
   "language": "python",
   "name": "python2"
  },
  "language_info": {
   "codemirror_mode": {
    "name": "ipython",
    "version": 2
   },
   "file_extension": ".py",
   "mimetype": "text/x-python",
   "name": "python",
   "nbconvert_exporter": "python",
   "pygments_lexer": "ipython2",
   "version": "2.7.13"
  }
 },
 "nbformat": 4,
 "nbformat_minor": 1
}
