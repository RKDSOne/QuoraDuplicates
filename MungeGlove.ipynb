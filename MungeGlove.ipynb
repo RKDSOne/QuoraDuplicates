{
 "cells": [
  {
   "cell_type": "code",
   "execution_count": 1,
   "metadata": {
    "collapsed": true
   },
   "outputs": [],
   "source": [
    "import pandas as pd\n",
    "import numpy as np"
   ]
  },
  {
   "cell_type": "code",
   "execution_count": 6,
   "metadata": {
    "collapsed": false
   },
   "outputs": [],
   "source": [
    "EOS_CHAR = 'zzzz'\n",
    "def munge_gl(gl):\n",
    "    \n",
    "    # append EOS_CHAR initialized to small positve random normal\n",
    "    gl = gl.append([EOS_CHAR] + list(np.random.normal(scale=.1, size=gl.shape[1]-1) + .25))\n",
    "    \n",
    "    gl_vocab = gl.pop(0)\n",
    "    gl_vocab_index = pd.DataFrame({'vocab_idx': gl_vocab.index})\n",
    "    gl_vocab_index.index = gl_vocab.values\n",
    "    print gl_vocab.shape, gl.shape\n",
    "    \n",
    "    return gl_vocab, gl"
   ]
  },
  {
   "cell_type": "code",
   "execution_count": 7,
   "metadata": {
    "collapsed": false
   },
   "outputs": [
    {
     "name": "stdout",
     "output_type": "stream",
     "text": [
      "(400101,) (400101, 100)\n"
     ]
    }
   ],
   "source": [
    "glvocab_100, gl = munge_gl(glove100)"
   ]
  },
  {
   "cell_type": "code",
   "execution_count": 8,
   "metadata": {
    "collapsed": false
   },
   "outputs": [
    {
     "data": {
      "text/html": [
       "<div>\n",
       "<table border=\"1\" class=\"dataframe\">\n",
       "  <thead>\n",
       "    <tr style=\"text-align: right;\">\n",
       "      <th></th>\n",
       "      <th>1</th>\n",
       "      <th>2</th>\n",
       "      <th>3</th>\n",
       "      <th>4</th>\n",
       "      <th>5</th>\n",
       "      <th>6</th>\n",
       "      <th>7</th>\n",
       "      <th>8</th>\n",
       "      <th>9</th>\n",
       "      <th>10</th>\n",
       "      <th>...</th>\n",
       "      <th>91</th>\n",
       "      <th>92</th>\n",
       "      <th>93</th>\n",
       "      <th>94</th>\n",
       "      <th>95</th>\n",
       "      <th>96</th>\n",
       "      <th>97</th>\n",
       "      <th>98</th>\n",
       "      <th>99</th>\n",
       "      <th>100</th>\n",
       "    </tr>\n",
       "  </thead>\n",
       "  <tbody>\n",
       "    <tr>\n",
       "      <th>0</th>\n",
       "      <td>-0.038194</td>\n",
       "      <td>-0.24487</td>\n",
       "      <td>0.72812</td>\n",
       "      <td>-0.39961</td>\n",
       "      <td>0.083172</td>\n",
       "      <td>0.043953</td>\n",
       "      <td>-0.391410</td>\n",
       "      <td>0.33440</td>\n",
       "      <td>-0.57545</td>\n",
       "      <td>0.087459</td>\n",
       "      <td>...</td>\n",
       "      <td>0.016215</td>\n",
       "      <td>-0.017099</td>\n",
       "      <td>-0.38984</td>\n",
       "      <td>0.87424</td>\n",
       "      <td>-0.72569</td>\n",
       "      <td>-0.51058</td>\n",
       "      <td>-0.52028</td>\n",
       "      <td>-0.14590</td>\n",
       "      <td>0.82780</td>\n",
       "      <td>0.270620</td>\n",
       "    </tr>\n",
       "    <tr>\n",
       "      <th>1</th>\n",
       "      <td>-0.107670</td>\n",
       "      <td>0.11053</td>\n",
       "      <td>0.59812</td>\n",
       "      <td>-0.54361</td>\n",
       "      <td>0.673960</td>\n",
       "      <td>0.106630</td>\n",
       "      <td>0.038867</td>\n",
       "      <td>0.35481</td>\n",
       "      <td>0.06351</td>\n",
       "      <td>-0.094189</td>\n",
       "      <td>...</td>\n",
       "      <td>0.349510</td>\n",
       "      <td>-0.722600</td>\n",
       "      <td>0.37549</td>\n",
       "      <td>0.44410</td>\n",
       "      <td>-0.99059</td>\n",
       "      <td>0.61214</td>\n",
       "      <td>-0.35111</td>\n",
       "      <td>-0.83155</td>\n",
       "      <td>0.45293</td>\n",
       "      <td>0.082577</td>\n",
       "    </tr>\n",
       "  </tbody>\n",
       "</table>\n",
       "<p>2 rows × 100 columns</p>\n",
       "</div>"
      ],
      "text/plain": [
       "        1        2        3        4         5         6         7        8    \\\n",
       "0 -0.038194 -0.24487  0.72812 -0.39961  0.083172  0.043953 -0.391410  0.33440   \n",
       "1 -0.107670  0.11053  0.59812 -0.54361  0.673960  0.106630  0.038867  0.35481   \n",
       "\n",
       "       9         10     ...          91        92       93       94       95   \\\n",
       "0 -0.57545  0.087459    ...     0.016215 -0.017099 -0.38984  0.87424 -0.72569   \n",
       "1  0.06351 -0.094189    ...     0.349510 -0.722600  0.37549  0.44410 -0.99059   \n",
       "\n",
       "       96       97       98       99        100  \n",
       "0 -0.51058 -0.52028 -0.14590  0.82780  0.270620  \n",
       "1  0.61214 -0.35111 -0.83155  0.45293  0.082577  \n",
       "\n",
       "[2 rows x 100 columns]"
      ]
     },
     "execution_count": 8,
     "metadata": {},
     "output_type": "execute_result"
    }
   ],
   "source": [
    "gl.head(2)"
   ]
  },
  {
   "cell_type": "code",
   "execution_count": 9,
   "metadata": {
    "collapsed": false
   },
   "outputs": [
    {
     "name": "stderr",
     "output_type": "stream",
     "text": [
      "/Users/kyu/anaconda2/lib/python2.7/site-packages/ipykernel/__main__.py:1: ParserWarning: Falling back to the 'python' engine because the 'c' engine does not support regex separators (separators > 1 char and different from '\\s+' are interpreted as regex); you can avoid this warning by specifying engine='python'.\n",
      "  if __name__ == '__main__':\n"
     ]
    },
    {
     "name": "stdout",
     "output_type": "stream",
     "text": [
      "(400101,) (400101, 100)\n"
     ]
    }
   ],
   "source": [
    "glove100 = pd.read_csv('glove/glove.6B.100d.txt', sep='\\s', header=None)\n",
    "glvocab_100, glove100 = munge_gl(glove100)\n",
    "glvocab_100.to_csv('/Users/kyu/quora/quora-duplicates/rnn/data/glvocab_1_100.txt', sep=' ', header=None, index=False)\n",
    "glove100.to_csv('/Users/kyu/quora/quora-duplicates/rnn/data/glwordvectors_1_100.txt', sep=' ', header=None, index=False)"
   ]
  },
  {
   "cell_type": "code",
   "execution_count": 10,
   "metadata": {
    "collapsed": false
   },
   "outputs": [
    {
     "name": "stderr",
     "output_type": "stream",
     "text": [
      "/Users/kyu/anaconda2/lib/python2.7/site-packages/ipykernel/__main__.py:1: ParserWarning: Falling back to the 'python' engine because the 'c' engine does not support regex separators (separators > 1 char and different from '\\s+' are interpreted as regex); you can avoid this warning by specifying engine='python'.\n",
      "  if __name__ == '__main__':\n"
     ]
    },
    {
     "name": "stdout",
     "output_type": "stream",
     "text": [
      "(400051,) (400051, 50)\n"
     ]
    }
   ],
   "source": [
    "glove = pd.read_csv('glove/glove.6B.50d.txt', sep='\\s', header=None)\n",
    "glvocab, glove = munge_gl(glove)\n",
    "glvocab.to_csv('/Users/kyu/quora/quora-duplicates/rnn/data/glvocab_1_50.txt', sep=' ', header=None, index=False)\n",
    "glove.to_csv('/Users/kyu/quora/quora-duplicates/rnn/data/glwordvectors_1_50.txt', sep=' ', header=None, index=False)"
   ]
  },
  {
   "cell_type": "code",
   "execution_count": 11,
   "metadata": {
    "collapsed": false
   },
   "outputs": [
    {
     "name": "stderr",
     "output_type": "stream",
     "text": [
      "/Users/kyu/anaconda2/lib/python2.7/site-packages/ipykernel/__main__.py:1: ParserWarning: Falling back to the 'python' engine because the 'c' engine does not support regex separators (separators > 1 char and different from '\\s+' are interpreted as regex); you can avoid this warning by specifying engine='python'.\n",
      "  if __name__ == '__main__':\n"
     ]
    },
    {
     "name": "stdout",
     "output_type": "stream",
     "text": [
      "(400201,) (400201, 200)\n"
     ]
    }
   ],
   "source": [
    "glove = pd.read_csv('glove/glove.6B.200d.txt', sep='\\s', header=None)\n",
    "glvocab, glove = munge_gl(glove)\n",
    "glvocab.to_csv('/Users/kyu/quora/quora-duplicates/rnn/data/glvocab_1_200.txt', sep=' ', header=None, index=False)\n",
    "glove.to_csv('/Users/kyu/quora/quora-duplicates/rnn/data/glwordvectors_1_200.txt', sep=' ', header=None, index=False)"
   ]
  },
  {
   "cell_type": "code",
   "execution_count": 12,
   "metadata": {
    "collapsed": false
   },
   "outputs": [
    {
     "name": "stderr",
     "output_type": "stream",
     "text": [
      "/Users/kyu/anaconda2/lib/python2.7/site-packages/ipykernel/__main__.py:1: ParserWarning: Falling back to the 'python' engine because the 'c' engine does not support regex separators (separators > 1 char and different from '\\s+' are interpreted as regex); you can avoid this warning by specifying engine='python'.\n",
      "  if __name__ == '__main__':\n"
     ]
    },
    {
     "name": "stdout",
     "output_type": "stream",
     "text": [
      "(400301,) (400301, 300)\n"
     ]
    }
   ],
   "source": [
    "glove = pd.read_csv('glove/glove.6B.300d.txt', sep='\\s', header=None)\n",
    "glvocab, glove= munge_gl(glove)\n",
    "glvocab.to_csv('/Users/kyu/quora/quora-duplicates/rnn/data/glvocab_300.txt', sep=' ', header=None, index=False)\n",
    "glove.to_csv('/Users/kyu/quora/quora-duplicates/rnn/data/glwordvectors_1_300.txt', sep=' ', header=None, index=False)"
   ]
  },
  {
   "cell_type": "code",
   "execution_count": null,
   "metadata": {
    "collapsed": true
   },
   "outputs": [],
   "source": []
  }
 ],
 "metadata": {
  "anaconda-cloud": {},
  "kernelspec": {
   "display_name": "Python [default]",
   "language": "python",
   "name": "python2"
  },
  "language_info": {
   "codemirror_mode": {
    "name": "ipython",
    "version": 2
   },
   "file_extension": ".py",
   "mimetype": "text/x-python",
   "name": "python",
   "nbconvert_exporter": "python",
   "pygments_lexer": "ipython2",
   "version": "2.7.12"
  }
 },
 "nbformat": 4,
 "nbformat_minor": 1
}
